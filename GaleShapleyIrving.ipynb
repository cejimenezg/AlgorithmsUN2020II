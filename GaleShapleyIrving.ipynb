{
  "nbformat": 4,
  "nbformat_minor": 0,
  "metadata": {
    "colab": {
      "name": "GaleShapleyIrving.ipynb",
      "provenance": [],
      "collapsed_sections": []
    },
    "kernelspec": {
      "name": "python3",
      "display_name": "Python 3"
    }
  },
  "cells": [
    {
      "cell_type": "code",
      "metadata": {
        "colab": {
          "base_uri": "https://localhost:8080/"
        },
        "id": "vflwb6NJ0r-w",
        "outputId": "1a0f65c2-824b-4beb-fad1-53cbf0e7ffdd"
      },
      "source": [
        "%pylab inline\n",
        "import pandas as pd\n",
        "import numpy as np"
      ],
      "execution_count": 1,
      "outputs": [
        {
          "output_type": "stream",
          "text": [
            "Populating the interactive namespace from numpy and matplotlib\n"
          ],
          "name": "stdout"
        }
      ]
    },
    {
      "cell_type": "code",
      "metadata": {
        "id": "mlxWyUd500Z0"
      },
      "source": [
        "women = pd.DataFrame({'A': [3,4,2,1], 'B': [3,1,4,2], 'C':[2,3,4,1], 'D':[3,2,1,4]})\n",
        "women.index = ['a','b','c','d']"
      ],
      "execution_count": 2,
      "outputs": []
    },
    {
      "cell_type": "code",
      "metadata": {
        "id": "CbDwLvj304J8"
      },
      "source": [
        "man1 = pd.DataFrame({'A': [1,1,2,4], 'B': [2,4,1,2], 'C':[3,3,3,3], 'D':[4,2,4,1]})\n",
        "man1.index = ['a','b','c','d']"
      ],
      "execution_count": 3,
      "outputs": []
    },
    {
      "cell_type": "code",
      "metadata": {
        "colab": {
          "base_uri": "https://localhost:8080/",
          "height": 175
        },
        "id": "8W-t_qUa05qd",
        "outputId": "5f600dad-b33a-451b-c489-9063c375b898"
      },
      "source": [
        "man1"
      ],
      "execution_count": 4,
      "outputs": [
        {
          "output_type": "execute_result",
          "data": {
            "text/html": [
              "<div>\n",
              "<style scoped>\n",
              "    .dataframe tbody tr th:only-of-type {\n",
              "        vertical-align: middle;\n",
              "    }\n",
              "\n",
              "    .dataframe tbody tr th {\n",
              "        vertical-align: top;\n",
              "    }\n",
              "\n",
              "    .dataframe thead th {\n",
              "        text-align: right;\n",
              "    }\n",
              "</style>\n",
              "<table border=\"1\" class=\"dataframe\">\n",
              "  <thead>\n",
              "    <tr style=\"text-align: right;\">\n",
              "      <th></th>\n",
              "      <th>A</th>\n",
              "      <th>B</th>\n",
              "      <th>C</th>\n",
              "      <th>D</th>\n",
              "    </tr>\n",
              "  </thead>\n",
              "  <tbody>\n",
              "    <tr>\n",
              "      <th>a</th>\n",
              "      <td>1</td>\n",
              "      <td>2</td>\n",
              "      <td>3</td>\n",
              "      <td>4</td>\n",
              "    </tr>\n",
              "    <tr>\n",
              "      <th>b</th>\n",
              "      <td>1</td>\n",
              "      <td>4</td>\n",
              "      <td>3</td>\n",
              "      <td>2</td>\n",
              "    </tr>\n",
              "    <tr>\n",
              "      <th>c</th>\n",
              "      <td>2</td>\n",
              "      <td>1</td>\n",
              "      <td>3</td>\n",
              "      <td>4</td>\n",
              "    </tr>\n",
              "    <tr>\n",
              "      <th>d</th>\n",
              "      <td>4</td>\n",
              "      <td>2</td>\n",
              "      <td>3</td>\n",
              "      <td>1</td>\n",
              "    </tr>\n",
              "  </tbody>\n",
              "</table>\n",
              "</div>"
            ],
            "text/plain": [
              "   A  B  C  D\n",
              "a  1  2  3  4\n",
              "b  1  4  3  2\n",
              "c  2  1  3  4\n",
              "d  4  2  3  1"
            ]
          },
          "metadata": {
            "tags": []
          },
          "execution_count": 4
        }
      ]
    },
    {
      "cell_type": "code",
      "metadata": {
        "colab": {
          "base_uri": "https://localhost:8080/",
          "height": 175
        },
        "id": "fqelujA-0_jk",
        "outputId": "1f99e507-4819-4a1d-f5b0-6bec48874cb8"
      },
      "source": [
        "women"
      ],
      "execution_count": 5,
      "outputs": [
        {
          "output_type": "execute_result",
          "data": {
            "text/html": [
              "<div>\n",
              "<style scoped>\n",
              "    .dataframe tbody tr th:only-of-type {\n",
              "        vertical-align: middle;\n",
              "    }\n",
              "\n",
              "    .dataframe tbody tr th {\n",
              "        vertical-align: top;\n",
              "    }\n",
              "\n",
              "    .dataframe thead th {\n",
              "        text-align: right;\n",
              "    }\n",
              "</style>\n",
              "<table border=\"1\" class=\"dataframe\">\n",
              "  <thead>\n",
              "    <tr style=\"text-align: right;\">\n",
              "      <th></th>\n",
              "      <th>A</th>\n",
              "      <th>B</th>\n",
              "      <th>C</th>\n",
              "      <th>D</th>\n",
              "    </tr>\n",
              "  </thead>\n",
              "  <tbody>\n",
              "    <tr>\n",
              "      <th>a</th>\n",
              "      <td>3</td>\n",
              "      <td>3</td>\n",
              "      <td>2</td>\n",
              "      <td>3</td>\n",
              "    </tr>\n",
              "    <tr>\n",
              "      <th>b</th>\n",
              "      <td>4</td>\n",
              "      <td>1</td>\n",
              "      <td>3</td>\n",
              "      <td>2</td>\n",
              "    </tr>\n",
              "    <tr>\n",
              "      <th>c</th>\n",
              "      <td>2</td>\n",
              "      <td>4</td>\n",
              "      <td>4</td>\n",
              "      <td>1</td>\n",
              "    </tr>\n",
              "    <tr>\n",
              "      <th>d</th>\n",
              "      <td>1</td>\n",
              "      <td>2</td>\n",
              "      <td>1</td>\n",
              "      <td>4</td>\n",
              "    </tr>\n",
              "  </tbody>\n",
              "</table>\n",
              "</div>"
            ],
            "text/plain": [
              "   A  B  C  D\n",
              "a  3  3  2  3\n",
              "b  4  1  3  2\n",
              "c  2  4  4  1\n",
              "d  1  2  1  4"
            ]
          },
          "metadata": {
            "tags": []
          },
          "execution_count": 5
        }
      ]
    },
    {
      "cell_type": "markdown",
      "metadata": {
        "id": "J-k9HW6C1XZ3"
      },
      "source": [
        "## **CREATING A SOLUTION WITH PYTHON**"
      ]
    },
    {
      "cell_type": "code",
      "metadata": {
        "colab": {
          "base_uri": "https://localhost:8080/"
        },
        "id": "RXkiy3841fYL",
        "outputId": "6a0051c5-a362-40f4-e106-67ba5e244593"
      },
      "source": [
        "%pylab inline\n",
        "import pandas as pd\n",
        "import numpy as np\n",
        "from collections import Counter\n",
        "from copy import copy"
      ],
      "execution_count": 6,
      "outputs": [
        {
          "output_type": "stream",
          "text": [
            "Populating the interactive namespace from numpy and matplotlib\n"
          ],
          "name": "stdout"
        }
      ]
    },
    {
      "cell_type": "code",
      "metadata": {
        "id": "x7fAvn7B1itj"
      },
      "source": [
        "man_list = ['a', 'b', 'c', 'd']\n",
        "women_list = ['A', 'B', 'C', 'D']"
      ],
      "execution_count": 7,
      "outputs": []
    },
    {
      "cell_type": "code",
      "metadata": {
        "id": "01Nj1TZH1kWm"
      },
      "source": [
        "women_df = pd.DataFrame({'A': [3,4,2,1], 'B': [3,1,4,2], 'C':[2,3,4,1], 'D':[3,2,1,4]})\n",
        "women_df.index = man_list"
      ],
      "execution_count": 8,
      "outputs": []
    },
    {
      "cell_type": "code",
      "metadata": {
        "id": "GFfwomEx1oRN"
      },
      "source": [
        "\n",
        "\n",
        "man_df = pd.DataFrame({'A': [1,1,2,4], 'B': [2,4,1,2], 'C':[3,3,3,3], 'D':[4,2,4,1]})\n",
        "man_df.index = man_list\n",
        "\n"
      ],
      "execution_count": 9,
      "outputs": []
    },
    {
      "cell_type": "code",
      "metadata": {
        "colab": {
          "base_uri": "https://localhost:8080/",
          "height": 175
        },
        "id": "ZEIns_LA1sAk",
        "outputId": "41bfed26-31a6-460e-ac07-ba8b4653690c"
      },
      "source": [
        "women_df"
      ],
      "execution_count": 10,
      "outputs": [
        {
          "output_type": "execute_result",
          "data": {
            "text/html": [
              "<div>\n",
              "<style scoped>\n",
              "    .dataframe tbody tr th:only-of-type {\n",
              "        vertical-align: middle;\n",
              "    }\n",
              "\n",
              "    .dataframe tbody tr th {\n",
              "        vertical-align: top;\n",
              "    }\n",
              "\n",
              "    .dataframe thead th {\n",
              "        text-align: right;\n",
              "    }\n",
              "</style>\n",
              "<table border=\"1\" class=\"dataframe\">\n",
              "  <thead>\n",
              "    <tr style=\"text-align: right;\">\n",
              "      <th></th>\n",
              "      <th>A</th>\n",
              "      <th>B</th>\n",
              "      <th>C</th>\n",
              "      <th>D</th>\n",
              "    </tr>\n",
              "  </thead>\n",
              "  <tbody>\n",
              "    <tr>\n",
              "      <th>a</th>\n",
              "      <td>3</td>\n",
              "      <td>3</td>\n",
              "      <td>2</td>\n",
              "      <td>3</td>\n",
              "    </tr>\n",
              "    <tr>\n",
              "      <th>b</th>\n",
              "      <td>4</td>\n",
              "      <td>1</td>\n",
              "      <td>3</td>\n",
              "      <td>2</td>\n",
              "    </tr>\n",
              "    <tr>\n",
              "      <th>c</th>\n",
              "      <td>2</td>\n",
              "      <td>4</td>\n",
              "      <td>4</td>\n",
              "      <td>1</td>\n",
              "    </tr>\n",
              "    <tr>\n",
              "      <th>d</th>\n",
              "      <td>1</td>\n",
              "      <td>2</td>\n",
              "      <td>1</td>\n",
              "      <td>4</td>\n",
              "    </tr>\n",
              "  </tbody>\n",
              "</table>\n",
              "</div>"
            ],
            "text/plain": [
              "   A  B  C  D\n",
              "a  3  3  2  3\n",
              "b  4  1  3  2\n",
              "c  2  4  4  1\n",
              "d  1  2  1  4"
            ]
          },
          "metadata": {
            "tags": []
          },
          "execution_count": 10
        }
      ]
    },
    {
      "cell_type": "code",
      "metadata": {
        "colab": {
          "base_uri": "https://localhost:8080/",
          "height": 175
        },
        "id": "pirC2K2B1vKi",
        "outputId": "7698e982-f894-41a5-f41e-81ea069659b5"
      },
      "source": [
        "man_df"
      ],
      "execution_count": 11,
      "outputs": [
        {
          "output_type": "execute_result",
          "data": {
            "text/html": [
              "<div>\n",
              "<style scoped>\n",
              "    .dataframe tbody tr th:only-of-type {\n",
              "        vertical-align: middle;\n",
              "    }\n",
              "\n",
              "    .dataframe tbody tr th {\n",
              "        vertical-align: top;\n",
              "    }\n",
              "\n",
              "    .dataframe thead th {\n",
              "        text-align: right;\n",
              "    }\n",
              "</style>\n",
              "<table border=\"1\" class=\"dataframe\">\n",
              "  <thead>\n",
              "    <tr style=\"text-align: right;\">\n",
              "      <th></th>\n",
              "      <th>A</th>\n",
              "      <th>B</th>\n",
              "      <th>C</th>\n",
              "      <th>D</th>\n",
              "    </tr>\n",
              "  </thead>\n",
              "  <tbody>\n",
              "    <tr>\n",
              "      <th>a</th>\n",
              "      <td>1</td>\n",
              "      <td>2</td>\n",
              "      <td>3</td>\n",
              "      <td>4</td>\n",
              "    </tr>\n",
              "    <tr>\n",
              "      <th>b</th>\n",
              "      <td>1</td>\n",
              "      <td>4</td>\n",
              "      <td>3</td>\n",
              "      <td>2</td>\n",
              "    </tr>\n",
              "    <tr>\n",
              "      <th>c</th>\n",
              "      <td>2</td>\n",
              "      <td>1</td>\n",
              "      <td>3</td>\n",
              "      <td>4</td>\n",
              "    </tr>\n",
              "    <tr>\n",
              "      <th>d</th>\n",
              "      <td>4</td>\n",
              "      <td>2</td>\n",
              "      <td>3</td>\n",
              "      <td>1</td>\n",
              "    </tr>\n",
              "  </tbody>\n",
              "</table>\n",
              "</div>"
            ],
            "text/plain": [
              "   A  B  C  D\n",
              "a  1  2  3  4\n",
              "b  1  4  3  2\n",
              "c  2  1  3  4\n",
              "d  4  2  3  1"
            ]
          },
          "metadata": {
            "tags": []
          },
          "execution_count": 11
        }
      ]
    },
    {
      "cell_type": "markdown",
      "metadata": {
        "id": "VV3QCBgr12Ec"
      },
      "source": [
        "## **NOW THE ALGORITHM GALE-SHAPLEY**"
      ]
    },
    {
      "cell_type": "code",
      "metadata": {
        "id": "y89TH4Rf10EA"
      },
      "source": [
        "# dict to control which women each man can make proposals\n",
        "women_available = {man:women_list for man in man_list}\n",
        "# waiting list of men that were able to create pair on each iteration\n",
        "waiting_list = []\n",
        "# dict to store created pairs\n",
        "proposals = {}\n",
        "# variable to count number of iterations\n",
        "count = 0"
      ],
      "execution_count": 12,
      "outputs": []
    },
    {
      "cell_type": "code",
      "metadata": {
        "id": "_mCCeLiu196F"
      },
      "source": [
        "# while not all men have pairs\n",
        "while len(waiting_list)<len(man_list):\n",
        "    # man makes proposals\n",
        "    for man in man_list:\n",
        "        if man not in waiting_list:\n",
        "            # each man make proposal to the top women from it's list\n",
        "            women = women_available[man]\n",
        "            best_choice = man_df.loc[man][man_df.loc[man].index.isin(women)].idxmin()\n",
        "            proposals[(man, best_choice)]=(man_df.loc[man][best_choice],\n",
        "                                                 women_df.loc[man][best_choice])\n",
        "    # if women have more than one proposals \n",
        "    # she will choose the best option\n",
        "    overlays = Counter([key[1] for key in proposals.keys()])\n",
        "    # cycle to choose the best options\n",
        "    for women in overlays.keys():\n",
        "        if overlays[women]>1:\n",
        "            # pairs to drop from proposals\n",
        "            pairs_to_drop = sorted({pair: proposals[pair] for pair in proposals.keys() \n",
        "                    if women in pair}.items(), \n",
        "                   key=lambda x: x[1][1]\n",
        "                  )[1:]\n",
        "            # if man was rejected by woman\n",
        "            # there is no pint for him to make proposal \n",
        "            # second time to the same woman\n",
        "            for p_to_drop in pairs_to_drop:\n",
        "                del proposals[p_to_drop[0]]\n",
        "                _women = copy(women_available[p_to_drop[0][0]])\n",
        "                _women.remove(p_to_drop[0][1])\n",
        "                women_available[p_to_drop[0][0]] = _women\n",
        "    # man who successfully created pairs must be added to the waiting list \n",
        "    waiting_list = [man[0] for man in proposals.keys()]\n",
        "    # update counter\n",
        "    count+=1"
      ],
      "execution_count": 13,
      "outputs": []
    },
    {
      "cell_type": "code",
      "metadata": {
        "colab": {
          "base_uri": "https://localhost:8080/"
        },
        "id": "Ipk_0lMy2JoM",
        "outputId": "39316a6c-8110-4917-e3c0-4e39e413e8a5"
      },
      "source": [
        "proposals"
      ],
      "execution_count": 14,
      "outputs": [
        {
          "output_type": "execute_result",
          "data": {
            "text/plain": [
              "{('a', 'C'): (3, 2),\n",
              " ('b', 'D'): (2, 2),\n",
              " ('c', 'A'): (2, 2),\n",
              " ('d', 'B'): (2, 2)}"
            ]
          },
          "metadata": {
            "tags": []
          },
          "execution_count": 14
        }
      ]
    },
    {
      "cell_type": "code",
      "metadata": {
        "colab": {
          "base_uri": "https://localhost:8080/"
        },
        "id": "SPaHgZJU2LRb",
        "outputId": "2d290eb0-06e0-4baa-8ff5-685dbb80d9bc"
      },
      "source": [
        "count"
      ],
      "execution_count": 15,
      "outputs": [
        {
          "output_type": "execute_result",
          "data": {
            "text/plain": [
              "6"
            ]
          },
          "metadata": {
            "tags": []
          },
          "execution_count": 15
        }
      ]
    },
    {
      "cell_type": "markdown",
      "metadata": {
        "id": "qbvOJIzu_9-f"
      },
      "source": [
        "## **TAKING OTHER PERSPECTIVE FOR STABLE MARRIAGE ALGORITHM..**"
      ]
    },
    {
      "cell_type": "code",
      "metadata": {
        "id": "R8c7sIIWFGJU"
      },
      "source": [
        "# Python3 program for stable marriage problem \n",
        "  \n",
        "# Number of Men or Women \n",
        "N = 4\n",
        "S = 0\n",
        "# This function returns true if  \n",
        "# woman 'w' prefers man 'm1' over man 'm' \n",
        "def wPrefersM1OverM(prefer, w, m, m1): \n",
        "      \n",
        "    # Check if w prefers m over her  \n",
        "    # current engagment m1 \n",
        "    for i in range(N): \n",
        "          \n",
        "        # If m1 comes before m in lisr of w,  \n",
        "        # then w prefers her current engagement, \n",
        "        # don't do anything \n",
        "        if (prefer[w][i] == m1): \n",
        "            return True\n",
        "  \n",
        "        # If m cmes before m1 in w's list,  \n",
        "        # then free her current engagement  \n",
        "        # and engage her with m \n",
        "        if (prefer[w][i] == m): \n",
        "            return False\n",
        "  \n",
        "# Prints stable matching for N boys and N girls.  \n",
        "# Boys are numbered as 0 to N-1.  \n",
        "# Girls are numbereed as N to 2N-1. \n",
        "def stableMarriage(prefer): \n",
        "      \n",
        "    # Stores partner of women. This is our output  \n",
        "    # array that stores paing information.  \n",
        "    # The value of wPartner[i] indicates the partner  \n",
        "    # assigned to woman N+i. Note that the woman numbers  \n",
        "    # between N and 2*N-1. The value -1 indicates  \n",
        "    # that (N+i)'th woman is free \n",
        "    wPartner = [-1 for i in range(N)] \n",
        "  \n",
        "    # An array to store availability of men.  \n",
        "    # If mFree[i] is false, then man 'i' is free, \n",
        "    # otherwise engaged. \n",
        "    mFree = [False for i in range(N)] \n",
        "  \n",
        "    freeCount = N \n",
        "    S = 0\n",
        "    # While there are free men \n",
        "    while (freeCount > 0): \n",
        "          \n",
        "        # Pick the first free man (we could pick any) \n",
        "        m = 0\n",
        "        while (m < N): \n",
        "            if (mFree[m] == False): \n",
        "                break\n",
        "            m += 1\n",
        "  \n",
        "        # One by one go to all women according to  \n",
        "        # m's preferences. Here m is the picked free man \n",
        "        i = 0\n",
        "        while i < N and mFree[m] == False: \n",
        "            w = prefer[m][i] \n",
        "\n",
        "            S += 1\n",
        "  \n",
        "            # The woman of preference is free,  \n",
        "            # w and m become partners (Note that  \n",
        "            # the partnership maybe changed later).  \n",
        "            # So we can say they are engaged not married \n",
        "            if (wPartner[w - N] == -1): \n",
        "                wPartner[w - N] = m \n",
        "                mFree[m] = True\n",
        "                freeCount -= 1\n",
        "  \n",
        "            else:  \n",
        "                  \n",
        "                # If w is not free \n",
        "                # Find current engagement of w \n",
        "                m1 = wPartner[w - N] \n",
        "  \n",
        "                # If w prefers m over her current engagement m1, \n",
        "                # then break the engagement between w and m1 and \n",
        "                # engage m with w. \n",
        "                if (wPrefersM1OverM(prefer, w, m, m1) == False): \n",
        "                    wPartner[w - N] = m \n",
        "                    mFree[m] = True\n",
        "                    mFree[m1] = False\n",
        "            i += 1\n",
        "\n",
        "            \n",
        "  \n",
        "            # End of Else \n",
        "        # End of the for loop that goes  \n",
        "        # to all women in m's list \n",
        "    # End of main while loop \n",
        "\n",
        "    #S = N*(N-1)+2\n",
        "    # Prthe solution \n",
        "    print(\"Woman \", \" Man\") \n",
        "    for i in range(N): \n",
        "        print(i + N, \"\\t\", wPartner[i]) \n",
        "    #print(\"Iterations: \", S)\n",
        "# Driver Code \n",
        "#prefer = [[7, 5, 6, 4], [5, 4, 6, 7], \n",
        "#          [4, 5, 6, 7], [4, 5, 6, 7], \n",
        "#          [0, 1, 2, 3], [0, 1, 2, 3], \n",
        "#          [0, 1, 2, 3], [0, 1, 2, 3]] \n",
        "  \n",
        "#stableMarriage(prefer) "
      ],
      "execution_count": 16,
      "outputs": []
    },
    {
      "cell_type": "markdown",
      "metadata": {
        "id": "Plkg-2lQxpLI"
      },
      "source": [
        "## **1.**"
      ]
    },
    {
      "cell_type": "markdown",
      "metadata": {
        "id": "9qAd5pesoWMb"
      },
      "source": [
        "## **For the worst case n = 4**\n",
        "\n",
        "\n",
        "For a worst-case execution of the sequential stable matching algorithms the following two statements are true:\n",
        "\n",
        "There exists one woman w1 who is the last choice of all men in M and the (n-1)th choices of all men consists of all the members in W-[w1].\n",
        "\n",
        "For each woman w1 in W -[w1], the first choice of wi must be mj whose (n-1)th choice is wi,  i.e., mj[n-1] = wi\n",
        "\n",
        "Now..\n"
      ]
    },
    {
      "cell_type": "code",
      "metadata": {
        "colab": {
          "base_uri": "https://localhost:8080/"
        },
        "id": "7_wr3gCWovvC",
        "outputId": "dcf5e2e0-df65-4893-eea3-e7e3c18d109b"
      },
      "source": [
        "prefer = [[1, 2, 3, 0], [2, 3, 0, 1], \n",
        "          [3, 0, 1, 2], [0, 1, 2, 3],\n",
        "          [4, 5, 6, 7], [5, 6, 4, 7], \n",
        "          [6, 4, 5, 7], [4, 5, 6, 7]] \n",
        "  \n",
        "stableMarriage(prefer) "
      ],
      "execution_count": 17,
      "outputs": [
        {
          "output_type": "stream",
          "text": [
            "Woman   Man\n",
            "4 \t 3\n",
            "5 \t 0\n",
            "6 \t 1\n",
            "7 \t 2\n"
          ],
          "name": "stdout"
        }
      ]
    },
    {
      "cell_type": "markdown",
      "metadata": {
        "id": "f28C_25SolMJ"
      },
      "source": [
        "## **For the best case n = 4**\n",
        "\n",
        "\n",
        "The arrays should be equals.\n"
      ]
    },
    {
      "cell_type": "code",
      "metadata": {
        "colab": {
          "base_uri": "https://localhost:8080/"
        },
        "id": "sH-fEbBlo50D",
        "outputId": "eddcd02e-7cb2-4ce1-a4ff-a07af9238995"
      },
      "source": [
        "prefer = [[0, 1, 2, 3],\n",
        "          [1, 2, 3, 0], \n",
        "          [2, 3, 0, 1],\n",
        "          [3, 0, 1, 2],\n",
        "          \n",
        "          [4, 5, 6, 7],\n",
        "          [5, 6, 7, 4], \n",
        "          [6, 7, 4, 5],\n",
        "          [7, 4, 5, 6]] \n",
        "  \n",
        "stableMarriage(prefer)"
      ],
      "execution_count": 18,
      "outputs": [
        {
          "output_type": "stream",
          "text": [
            "Woman   Man\n",
            "4 \t 0\n",
            "5 \t 1\n",
            "6 \t 2\n",
            "7 \t 3\n"
          ],
          "name": "stdout"
        }
      ]
    },
    {
      "cell_type": "markdown",
      "metadata": {
        "id": "3TUeTFfZogC5"
      },
      "source": [
        ""
      ]
    },
    {
      "cell_type": "code",
      "metadata": {
        "id": "9lnxaRZFQeLK"
      },
      "source": [
        "N = 40\n",
        "\n",
        "def wPrefersM1OverM1(prefer, w, m, m1):     \n",
        "    for i in range(N): \n",
        "        if (prefer[w][i] == m1): \n",
        "            return True\n",
        "        if (prefer[w][i] == m): \n",
        "            return False\n",
        " \n",
        "def stableMarriage1(prefer): \n",
        "    wPartner = [-1 for i in range(N)]\n",
        "    mFree = [False for i in range(N)] \n",
        "    freeCount = N \n",
        "\n",
        "    while (freeCount > 0): \n",
        "        m = 0\n",
        "        while (m < N): \n",
        "            if (mFree[m] == False): \n",
        "                break\n",
        "            m += 1\n",
        "        i = 0\n",
        "        while i < N and mFree[m] == False: \n",
        "            w = prefer[m][i] \n",
        "\n",
        "            if (wPartner[w - N] == -1): \n",
        "                wPartner[w - N] = m \n",
        "                mFree[m] = True\n",
        "                freeCount -= 1\n",
        "  \n",
        "            else:  \n",
        "\n",
        "                m1 = wPartner[w - N] \n",
        "                if (wPrefersM1OverM1(prefer, w, m, m1) == False): \n",
        "                    wPartner[w - N] = m \n",
        "                    mFree[m] = True\n",
        "                    mFree[m1] = False\n",
        "            i += 1\n",
        "\n",
        "    print(\"Woman \", \" Man\") \n",
        "    for i in range(N): \n",
        "        print(i + N, \"\\t\", wPartner[i]) "
      ],
      "execution_count": 19,
      "outputs": []
    },
    {
      "cell_type": "markdown",
      "metadata": {
        "id": "i4DAa_UNMlI8"
      },
      "source": [
        "## **For the worst case n = 40**\n"
      ]
    },
    {
      "cell_type": "code",
      "metadata": {
        "colab": {
          "base_uri": "https://localhost:8080/"
        },
        "id": "Yv3xU9QzQ_eZ",
        "outputId": "29f625f9-e65f-44eb-9b5c-60466aa10cd0"
      },
      "source": [
        "prefer1 = [[0,1,2,3,4,5,6,7,8,9,10,11,12,13,14,15,16,17,18,19,20,21,22,23,24,25,26,27,28,29,30,31,32,33,34,35,36,37,38,39],\n",
        "          [1,2,3,4,5,6,7,8,9,10,11,12,13,14,15,16,17,18,19,20,21,22,23,24,25,26,27,28,29,30,31,32,33,34,35,36,37,38,0,39], \n",
        "          [2,3,4,5,6,7,8,9,10,11,12,13,14,15,16,17,18,19,20,21,22,23,24,25,26,27,28,29,30,31,32,33,34,35,36,37,38,0,1,39],\n",
        "          [3,4,5,6,7,8,9,10,11,12,13,14,15,16,17,18,19,20,21,22,23,24,25,26,27,28,29,30,31,32,33,34,35,36,37,38,0,1,2,39],\n",
        "          [4,5,6,7,8,9,10,11,12,13,14,15,16,17,18,19,20,21,22,23,24,25,26,27,28,29,30,31,32,33,34,35,36,37,38,0,1,2,3,39],\n",
        "          [5,6,7,8,9,10,11,12,13,14,15,16,17,18,19,20,21,22,23,24,25,26,27,28,29,30,31,32,33,34,35,36,37,38,0,1,2,3,4,39],\n",
        "          [6,7,8,9,10,11,12,13,14,15,16,17,18,19,20,21,22,23,24,25,26,27,28,29,30,31,32,33,34,35,36,37,38,0,1,2,3,4,5,39],\n",
        "          [7,8,9,10,11,12,13,14,15,16,17,18,19,20,21,22,23,24,25,26,27,28,29,30,31,32,33,34,35,36,37,38,0,1,2,3,4,5,6,39],\n",
        "          [8,9,10,11,12,13,14,15,16,17,18,19,20,21,22,23,24,25,26,27,28,29,30,31,32,33,34,35,36,37,38,0,1,2,3,4,5,6,7,39],\n",
        "          [9,10,11,12,13,14,15,16,17,18,19,20,21,22,23,24,25,26,27,28,29,30,31,32,33,34,35,36,37,38,0,1,2,3,4,5,6,7,8,39],\n",
        "          [10,11,12,13,14,15,16,17,18,19,20,21,22,23,24,25,26,27,28,29,30,31,32,33,34,35,36,37,38,0,1,2,3,4,5,6,7,8,9,39],\n",
        "          [11,12,13,14,15,16,17,18,19,20,21,22,23,24,25,26,27,28,29,30,31,32,33,34,35,36,37,38,0,1,2,3,4,5,6,7,8,9,10,39],\n",
        "          [12,13,14,15,16,17,18,19,20,21,22,23,24,25,26,27,28,29,30,31,32,33,34,35,36,37,38,0,1,2,3,4,5,6,7,8,9,10,11,39],\n",
        "          [13,14,15,16,17,18,19,20,21,22,23,24,25,26,27,28,29,30,31,32,33,34,35,36,37,38,0,1,2,3,4,5,6,7,8,9,10,11,12,39],\n",
        "          [14,15,16,17,18,19,20,21,22,23,24,25,26,27,28,29,30,31,32,33,34,35,36,37,38,0,1,2,3,4,5,6,7,8,9,10,11,12,13,39],\n",
        "          [15,16,17,18,19,20,21,22,23,24,25,26,27,28,29,30,31,32,33,34,35,36,37,38,0,1,2,3,4,5,6,7,8,9,10,11,12,13,14,39],\n",
        "          [16,17,18,19,20,21,22,23,24,25,26,27,28,29,30,31,32,33,34,35,36,37,38,0,1,2,3,4,5,6,7,8,9,10,11,12,13,14,15,39],\n",
        "          [17,18,19,20,21,22,23,24,25,26,27,28,29,30,31,32,33,34,35,36,37,38,0,1,2,3,4,5,6,7,8,9,10,11,12,13,14,15,16,39],\n",
        "          [18,19,20,21,22,23,24,25,26,27,28,29,30,31,32,33,34,35,36,37,38,0,1,2,3,4,5,6,7,8,9,10,11,12,13,14,15,16,17,39],\n",
        "          [19,20,21,22,23,24,25,26,27,28,29,30,31,32,33,34,35,36,37,38,0,1,2,3,4,5,6,7,8,9,10,11,12,13,14,15,16,17,18,39],\n",
        "          [20,21,22,23,24,25,26,27,28,29,30,31,32,33,34,35,36,37,38,0,1,2,3,4,5,6,7,8,9,10,11,12,13,14,15,16,17,18,19,39],\n",
        "          [21,22,23,24,25,26,27,28,29,30,31,32,33,34,35,36,37,38,0,1,2,3,4,5,6,7,8,9,10,11,12,13,14,15,16,17,18,19,20,39],\n",
        "          [22,23,24,25,26,27,28,29,30,31,32,33,34,35,36,37,38,0,1,2,3,4,5,6,7,8,9,10,11,12,13,14,15,16,17,18,19,20,21,39],\n",
        "          [23,24,25,26,27,28,29,30,31,32,33,34,35,36,37,38,0,1,2,3,4,5,6,7,8,9,10,11,12,13,14,15,16,17,18,19,20,21,22,39],\n",
        "          [24,25,26,27,28,29,30,31,32,33,34,35,36,37,38,0,1,2,3,4,5,6,7,8,9,10,11,12,13,14,15,16,17,18,19,20,21,22,23,39],\n",
        "          [25,26,27,28,29,30,31,32,33,34,35,36,37,38,0,1,2,3,4,5,6,7,8,9,10,11,12,13,14,15,16,17,18,19,20,21,22,23,24,39],\n",
        "          [26,27,28,29,30,31,32,33,34,35,36,37,38,0,1,2,3,4,5,6,7,8,9,10,11,12,13,14,15,16,17,18,19,20,21,22,23,24,25,39],\n",
        "          [27,28,29,30,31,32,33,34,35,36,37,38,0,1,2,3,4,5,6,7,8,9,10,11,12,13,14,15,16,17,18,19,20,21,22,23,24,25,26,39],\n",
        "          [28,29,30,31,32,33,34,35,36,37,38,0,1,2,3,4,5,6,7,8,9,10,11,12,13,14,15,16,17,18,19,20,21,22,23,24,25,26,27,39],\n",
        "          [29,30,31,32,33,34,35,36,37,38,0,1,2,3,4,5,6,7,8,9,10,11,12,13,14,15,16,17,18,19,20,21,22,23,24,25,26,27,28,39],\n",
        "          [30,31,32,33,34,35,36,37,38,0,1,2,3,4,5,6,7,8,9,10,11,12,13,14,15,16,17,18,19,20,21,22,23,24,25,26,27,28,29,39],\n",
        "          [31,32,33,34,35,36,37,38,0,1,2,3,4,5,6,7,8,9,10,11,12,13,14,15,16,17,18,19,20,21,22,23,24,25,26,27,28,29,30,39],\n",
        "          [32,33,34,35,36,37,38,0,1,2,3,4,5,6,7,8,9,10,11,12,13,14,15,16,17,18,19,20,21,22,23,24,25,26,27,28,29,30,31,39],\n",
        "          [33,34,35,36,37,38,0,1,2,3,4,5,6,7,8,9,10,11,12,13,14,15,16,17,18,19,20,21,22,23,24,25,26,27,28,29,30,31,32,39],\n",
        "          [34,35,36,37,38,0,1,2,3,4,5,6,7,8,9,10,11,12,13,14,15,16,17,18,19,20,21,22,23,24,25,26,27,28,29,30,31,32,33,39],\n",
        "          [35,36,37,38,0,1,2,3,4,5,6,7,8,9,10,11,12,13,14,15,16,17,18,19,20,21,22,23,24,25,26,27,28,29,30,31,32,33,34,39],\n",
        "          [36,37,38,0,1,2,3,4,5,6,7,8,9,10,11,12,13,14,15,16,17,18,19,20,21,22,23,24,25,26,27,28,29,30,31,32,33,34,35,39],\n",
        "          [37,38,0,1,2,3,4,5,6,7,8,9,10,11,12,13,14,15,16,17,18,19,20,21,22,23,24,25,26,27,28,29,30,31,32,33,34,35,36,39],\n",
        "          [38,0,1,2,3,4,5,6,7,8,9,10,11,12,13,14,15,16,17,18,19,20,21,22,23,24,25,26,27,28,29,30,31,32,33,34,35,36,37,39],\n",
        "          [0,1,2,3,4,5,6,7,8,9,10,11,12,13,14,15,16,17,18,19,20,21,22,23,24,25,26,27,28,29,30,31,32,33,34,35,36,37,38,39],\n",
        "\n",
        "          [41,40,43,44,45,46,47,48,49,50,51,52,53,54,55,56,57,58,59,60,61,62,63,64,65,66,67,68,69,70,71,72,73,74,75,76,77,78,79,42],\n",
        "          [42,41,44,45,46,47,48,49,50,51,52,53,54,55,56,57,58,59,60,61,62,63,64,65,66,67,68,69,70,71,72,73,74,75,76,77,78,79,40,43],\n",
        "          [43,42,45,46,47,48,49,50,51,52,53,54,55,56,57,58,59,60,61,62,63,64,65,66,67,68,69,70,71,72,73,74,75,76,77,78,79,40,41,44],\n",
        "          [44,43,46,47,48,49,50,51,52,53,54,55,56,57,58,59,60,61,62,63,64,65,66,67,68,69,70,71,72,73,74,75,76,77,78,79,40,41,42,45],\n",
        "          [45,44,47,48,49,50,51,52,53,54,55,56,57,58,59,60,61,62,63,64,65,66,67,68,69,70,71,72,73,74,75,76,77,78,79,40,41,42,43,46],\n",
        "          [46,45,48,49,50,51,52,53,54,55,56,57,58,59,60,61,62,63,64,65,66,67,68,69,70,71,72,73,74,75,76,77,78,79,40,41,42,43,44,47],\n",
        "          [47,46,49,50,51,52,53,54,55,56,57,58,59,60,61,62,63,64,65,66,67,68,69,70,71,72,73,74,75,76,77,78,79,40,41,42,43,44,45,48],\n",
        "          [48,47,50,51,52,53,54,55,56,57,58,59,60,61,62,63,64,65,66,67,68,69,70,71,72,73,74,75,76,77,78,79,40,41,42,43,44,45,46,49],\n",
        "          [49,58,51,52,53,54,55,56,57,58,59,60,61,62,63,64,65,66,67,68,69,70,71,72,73,74,75,76,77,78,79,40,41,42,43,44,45,46,47,50],\n",
        "          [50,59,52,53,54,55,56,57,58,59,60,61,62,63,64,65,66,67,68,69,70,71,72,73,74,75,76,77,78,79,40,41,42,43,44,45,46,47,48,51],\n",
        "          [51,50,53,54,55,56,57,58,59,60,61,62,63,64,65,66,67,68,69,70,71,72,73,74,75,76,77,78,79,40,41,42,43,44,45,46,47,48,49,52],\n",
        "          [52,51,54,55,56,57,58,59,60,61,62,63,64,65,66,67,68,69,70,71,72,73,74,75,76,77,78,79,40,41,42,43,44,45,46,47,48,49,50,53],\n",
        "          [53,52,55,56,57,58,59,60,61,62,63,64,65,66,67,68,69,70,71,72,73,74,75,76,77,78,79,40,41,42,43,44,45,46,47,48,49,50,51,54],\n",
        "          [54,53,56,57,58,59,60,61,62,63,64,65,66,67,68,69,70,71,72,73,74,75,76,77,78,79,40,41,42,43,44,45,46,47,48,49,50,51,52,55],\n",
        "          [55,54,57,58,59,60,61,62,63,64,65,66,67,68,69,70,71,72,73,74,75,76,77,78,79,40,41,42,43,44,45,46,47,48,49,50,51,52,53,56],\n",
        "          [56,55,58,59,60,61,62,63,64,65,66,67,68,69,70,71,72,73,74,75,76,77,78,79,40,41,42,43,44,45,46,47,48,49,50,51,52,53,54,57],\n",
        "          [57,56,59,60,61,62,63,64,65,66,67,68,69,70,71,72,73,74,75,76,77,78,79,40,41,42,43,44,45,46,47,48,49,50,51,52,51,54,55,58],\n",
        "          [58,57,60,61,62,63,64,65,66,67,68,69,70,71,72,73,74,75,76,77,78,79,40,41,42,43,44,45,46,47,48,49,50,51,52,53,54,55,56,59],\n",
        "          [59,68,61,62,63,64,65,66,67,68,69,70,71,72,73,74,75,76,77,78,79,40,41,42,43,44,45,46,47,48,49,50,51,52,53,54,55,56,57,60],\n",
        "          [60,59,62,63,64,65,66,67,68,69,70,71,72,73,74,75,76,77,78,79,40,41,42,43,44,45,46,47,48,49,50,51,52,53,54,55,56,57,58,61],\n",
        "          [61,60,63,64,65,66,67,68,69,70,71,72,73,74,75,76,77,78,79,40,41,42,43,44,45,46,47,48,49,50,51,52,53,54,55,56,57,58,59,62],\n",
        "          [62,61,64,65,66,67,68,69,70,71,72,73,74,75,76,77,78,79,40,41,42,43,44,45,46,47,48,49,50,51,52,53,54,55,56,57,58,59,60,63],\n",
        "          [63,62,65,66,67,68,69,70,71,72,73,74,75,76,77,78,79,40,41,42,43,44,45,46,47,48,49,50,51,52,53,54,55,56,57,58,59,60,61,64],\n",
        "          [64,63,66,67,68,69,70,71,72,73,74,75,76,77,78,79,40,41,42,43,44,45,46,47,48,49,50,51,52,53,54,55,56,57,58,59,60,61,62,65],\n",
        "          [65,64,67,68,69,70,71,72,73,74,75,76,77,78,79,40,41,42,43,44,45,46,47,48,49,50,51,52,53,54,55,56,57,58,59,60,61,62,63,66],\n",
        "          [66,65,68,69,70,71,72,73,74,75,76,77,78,79,40,41,42,43,44,45,46,47,48,49,50,51,52,53,54,55,56,57,58,59,60,61,62,63,64,67],\n",
        "          [67,66,69,70,71,72,73,74,75,76,77,78,79,40,41,42,43,44,45,46,47,48,49,50,51,52,53,54,55,56,57,58,59,60,61,62,63,64,65,68],\n",
        "          [68,67,70,71,72,73,74,75,76,77,78,79,40,41,42,43,44,45,46,47,48,49,50,51,52,53,54,55,56,57,58,59,60,61,62,63,64,65,66,69],\n",
        "          [69,68,71,72,73,74,75,76,77,78,79,40,41,42,43,44,45,46,47,48,49,50,51,52,53,54,55,56,57,58,59,60,61,62,63,64,65,66,67,70],\n",
        "          [70,69,72,73,74,75,76,77,78,79,40,41,42,43,44,45,46,47,48,49,50,51,52,53,54,55,56,57,58,59,60,61,62,63,64,65,66,67,68,71],\n",
        "          [71,70,73,74,75,76,77,78,79,40,41,42,43,44,45,46,47,48,49,50,51,52,53,54,55,56,57,58,59,60,61,62,63,64,65,66,67,68,69,72],\n",
        "          [72,71,74,75,76,77,78,79,40,41,42,43,44,45,46,47,48,49,50,51,52,53,54,55,56,57,58,59,60,61,62,63,64,65,66,67,68,69,70,73],\n",
        "          [73,72,75,76,77,78,79,40,41,42,43,44,45,46,47,48,49,50,51,52,53,54,55,56,57,58,59,60,61,62,63,64,65,66,67,68,69,70,71,74],\n",
        "          [74,73,76,77,78,79,40,41,42,43,44,45,46,47,48,49,50,51,52,53,54,55,56,57,58,59,60,61,62,63,64,65,66,67,68,69,70,71,72,75],\n",
        "          [75,74,77,78,79,40,41,42,43,44,45,46,47,48,49,50,51,52,53,54,55,56,57,58,59,60,61,62,63,64,65,66,67,68,69,70,71,72,73,76],\n",
        "          [76,75,78,79,40,41,42,43,44,45,46,47,48,49,50,51,52,53,54,55,56,57,58,59,60,61,62,63,64,65,66,67,68,69,70,71,72,73,74,77],\n",
        "          [77,76,79,40,41,42,43,44,45,46,47,48,49,50,51,52,53,54,55,56,57,58,59,60,61,62,63,64,65,66,67,68,69,70,71,72,73,74,75,78],\n",
        "          [78,77,40,41,42,43,44,45,46,47,48,49,50,51,52,53,54,55,56,57,58,59,60,61,62,63,64,65,66,67,68,69,70,71,72,73,74,75,76,79],\n",
        "          [79,78,41,42,43,44,45,46,47,48,49,50,51,52,53,54,55,56,57,58,59,60,61,62,63,64,65,66,67,68,69,70,71,72,73,74,75,76,77,40],\n",
        "          [40,79,42,43,44,45,46,47,48,49,50,51,52,53,54,55,56,57,58,59,60,61,62,63,64,65,66,67,68,69,70,71,72,73,74,75,76,77,78,41]]\n",
        "\n",
        "    \n",
        "\n",
        "stableMarriage1(prefer1)"
      ],
      "execution_count": 20,
      "outputs": [
        {
          "output_type": "stream",
          "text": [
            "Woman   Man\n",
            "40 \t 0\n",
            "41 \t 1\n",
            "42 \t 2\n",
            "43 \t 3\n",
            "44 \t 4\n",
            "45 \t 5\n",
            "46 \t 6\n",
            "47 \t 7\n",
            "48 \t 8\n",
            "49 \t 9\n",
            "50 \t 10\n",
            "51 \t 11\n",
            "52 \t 12\n",
            "53 \t 13\n",
            "54 \t 14\n",
            "55 \t 15\n",
            "56 \t 16\n",
            "57 \t 17\n",
            "58 \t 18\n",
            "59 \t 19\n",
            "60 \t 20\n",
            "61 \t 21\n",
            "62 \t 22\n",
            "63 \t 23\n",
            "64 \t 24\n",
            "65 \t 25\n",
            "66 \t 26\n",
            "67 \t 27\n",
            "68 \t 28\n",
            "69 \t 29\n",
            "70 \t 30\n",
            "71 \t 31\n",
            "72 \t 32\n",
            "73 \t 33\n",
            "74 \t 34\n",
            "75 \t 35\n",
            "76 \t 36\n",
            "77 \t 37\n",
            "78 \t 38\n",
            "79 \t 39\n"
          ],
          "name": "stdout"
        }
      ]
    },
    {
      "cell_type": "markdown",
      "metadata": {
        "id": "j-aL5hPOIc4V"
      },
      "source": [
        "## **For the best case  n = 40**"
      ]
    },
    {
      "cell_type": "markdown",
      "metadata": {
        "id": "0AmGTXgCkrn5"
      },
      "source": [
        "N = 40"
      ]
    },
    {
      "cell_type": "code",
      "metadata": {
        "colab": {
          "base_uri": "https://localhost:8080/"
        },
        "id": "Egz6YxnIkuGH",
        "outputId": "c5cc2b0f-092d-43a7-e916-7719687e3008"
      },
      "source": [
        "prefer2 = [[0,1,2,3,4,5,6,7,8,9,10,11,12,13,14,15,16,17,18,19,20,21,22,23,24,25,26,27,28,29,30,31,32,33,34,35,36,37,38,39],\n",
        "          [1,2,3,4,5,6,7,8,9,10,11,12,13,14,15,16,17,18,19,20,21,22,23,24,25,26,27,28,29,30,31,32,33,34,35,36,37,38,39,0], \n",
        "          [2,3,4,5,6,7,8,9,10,11,12,13,14,15,16,17,18,19,20,21,22,23,24,25,26,27,28,29,30,31,32,33,34,35,36,37,38,39,0,1],\n",
        "          [3,4,5,6,7,8,9,10,11,12,13,14,15,16,17,18,19,20,21,22,23,24,25,26,27,28,29,30,31,32,33,34,35,36,37,38,39,0,1,2],\n",
        "          [4,5,6,7,8,9,10,11,12,13,14,15,16,17,18,19,20,21,22,23,24,25,26,27,28,29,30,31,32,33,34,35,36,37,38,39,0,1,2,3],\n",
        "          [5,6,7,8,9,10,11,12,13,14,15,16,17,18,19,20,21,22,23,24,25,26,27,28,29,30,31,32,33,34,35,36,37,38,39,0,1,2,3,4],\n",
        "          [6,7,8,9,10,11,12,13,14,15,16,17,18,19,20,21,22,23,24,25,26,27,28,29,30,31,32,33,34,35,36,37,38,39,0,1,2,3,4,5],\n",
        "          [7,8,9,10,11,12,13,14,15,16,17,18,19,20,21,22,23,24,25,26,27,28,29,30,31,32,33,34,35,36,37,38,39,0,1,2,3,4,5,6],\n",
        "          [8,9,10,11,12,13,14,15,16,17,18,19,20,21,22,23,24,25,26,27,28,29,30,31,32,33,34,35,36,37,38,39,0,1,2,3,4,5,6,7],\n",
        "          [9,10,11,12,13,14,15,16,17,18,19,20,21,22,23,24,25,26,27,28,29,30,31,32,33,34,35,36,37,38,39,0,1,2,3,4,5,6,7,8],\n",
        "          [10,11,12,13,14,15,16,17,18,19,20,21,22,23,24,25,26,27,28,29,30,31,32,33,34,35,36,37,38,39,0,1,2,3,4,5,6,7,8,9],\n",
        "          [11,12,13,14,15,16,17,18,19,20,21,22,23,24,25,26,27,28,29,30,31,32,33,34,35,36,37,38,39,0,1,2,3,4,5,6,7,8,9,10],\n",
        "          [12,13,14,15,16,17,18,19,20,21,22,23,24,25,26,27,28,29,30,31,32,33,34,35,36,37,38,39,0,1,2,3,4,5,6,7,8,9,10,11],\n",
        "          [13,14,15,16,17,18,19,20,21,22,23,24,25,26,27,28,29,30,31,32,33,34,35,36,37,38,39,0,1,2,3,4,5,6,7,8,9,10,11,12],\n",
        "          [14,15,16,17,18,19,20,21,22,23,24,25,26,27,28,29,30,31,32,33,34,35,36,37,38,39,0,1,2,3,4,5,6,7,8,9,10,11,12,13],\n",
        "          [15,16,17,18,19,20,21,22,23,24,25,26,27,28,29,30,31,32,33,34,35,36,37,38,39,0,1,2,3,4,5,6,7,8,9,10,11,12,13,14],\n",
        "          [16,17,18,19,20,21,22,23,24,25,26,27,28,29,30,31,32,33,34,35,36,37,38,39,0,1,2,3,4,5,6,7,8,9,10,11,12,13,14,15],\n",
        "          [17,18,19,20,21,22,23,24,25,26,27,28,29,30,31,32,33,34,35,36,37,38,39,0,1,2,3,4,5,6,7,8,9,10,11,12,13,14,15,16],\n",
        "          [18,19,20,21,22,23,24,25,26,27,28,29,30,31,32,33,34,35,36,37,38,39,0,1,2,3,4,5,6,7,8,9,10,11,12,13,14,15,16,17],\n",
        "          [19,20,21,22,23,24,25,26,27,28,29,30,31,32,33,34,35,36,37,38,39,0,1,2,3,4,5,6,7,8,9,10,11,12,13,14,15,16,17,18],\n",
        "          [20,21,22,23,24,25,26,27,28,29,30,31,32,33,34,35,36,37,38,39,0,1,2,3,4,5,6,7,8,9,10,11,12,13,14,15,16,17,18,19],\n",
        "          [21,22,23,24,25,26,27,28,29,30,31,32,33,34,35,36,37,38,39,0,1,2,3,4,5,6,7,8,9,10,11,12,13,14,15,16,17,18,19,20],\n",
        "          [22,23,24,25,26,27,28,29,30,31,32,33,34,35,36,37,38,39,0,1,2,3,4,5,6,7,8,9,10,11,12,13,14,15,16,17,18,19,20,21],\n",
        "          [23,24,25,26,27,28,29,30,31,32,33,34,35,36,37,38,0,1,2,3,4,5,6,7,8,9,10,11,12,13,14,15,16,17,18,19,20,21,22,39],\n",
        "          [24,25,26,27,28,29,30,31,32,33,34,35,36,37,38,39,0,1,2,3,4,5,6,7,8,9,10,11,12,13,14,15,16,17,18,19,20,21,22,23],\n",
        "          [25,26,27,28,29,30,31,32,33,34,35,36,37,38,39,0,1,2,3,4,5,6,7,8,9,10,11,12,13,14,15,16,17,18,19,20,21,22,23,24],\n",
        "          [26,27,28,29,30,31,32,33,34,35,36,37,38,39,0,1,2,3,4,5,6,7,8,9,10,11,12,13,14,15,16,17,18,19,20,21,22,23,24,25],\n",
        "          [27,28,29,30,31,32,33,34,35,36,37,38,0,1,2,3,4,5,6,7,8,9,10,11,12,13,14,15,16,17,18,19,20,21,22,23,24,25,26,39],\n",
        "          [28,29,30,31,32,33,34,35,36,37,38,39,0,1,2,3,4,5,6,7,8,9,10,11,12,13,14,15,16,17,18,19,20,21,22,23,24,25,26,27],\n",
        "          [29,30,31,32,33,34,35,36,37,38,0,1,2,3,4,5,6,7,8,9,10,11,12,13,14,15,16,17,18,19,20,21,22,23,24,25,26,27,28,39],\n",
        "          [30,31,32,33,34,35,36,37,38,39,0,1,2,3,4,5,6,7,8,9,10,11,12,13,14,15,16,17,18,19,20,21,22,23,24,25,26,27,28,29],\n",
        "          [31,32,33,34,35,36,37,38,39,0,1,2,3,4,5,6,7,8,9,10,11,12,13,14,15,16,17,18,19,20,21,22,23,24,25,26,27,28,29,30],\n",
        "          [32,33,34,35,36,37,38,39,0,1,2,3,4,5,6,7,8,9,10,11,12,13,14,15,16,17,18,19,20,21,22,23,24,25,26,27,28,29,30,31],\n",
        "          [33,34,35,36,37,38,39,0,1,2,3,4,5,6,7,8,9,10,11,12,13,14,15,16,17,18,19,20,21,22,23,24,25,26,27,28,29,30,31,32],\n",
        "          [34,35,36,37,38,39,0,1,2,3,4,5,6,7,8,9,10,11,12,13,14,15,16,17,18,19,20,21,22,23,24,25,26,27,28,29,30,31,32,33],\n",
        "          [35,36,37,38,39,0,1,2,3,4,5,6,7,8,9,10,11,12,13,14,15,16,17,18,19,20,21,22,23,24,25,26,27,28,29,30,31,32,33,34],\n",
        "          [36,37,38,39,0,1,2,3,4,5,6,7,8,9,10,11,12,13,14,15,16,17,18,19,20,21,22,23,24,25,26,27,28,29,30,31,32,33,34,35],\n",
        "          [37,38,39,0,1,2,3,4,5,6,7,8,9,10,11,12,13,14,15,16,17,18,19,20,21,22,23,24,25,26,27,28,29,30,31,32,33,34,35,36],\n",
        "          [38,39,0,1,2,3,4,5,6,7,8,9,10,11,12,13,14,15,16,17,18,19,20,21,22,23,24,25,26,27,28,29,30,31,32,33,34,35,36,37],\n",
        "          [39,0,1,2,3,4,5,6,7,8,9,10,11,12,13,14,15,16,17,18,19,20,21,22,23,24,25,26,27,28,29,30,31,32,33,34,35,36,37,38],\n",
        "\n",
        "          [40,41,42,43,44,45,46,47,48,49,50,51,52,53,54,55,56,57,58,59,60,61,62,63,64,65,66,67,68,69,70,71,72,73,74,75,76,77,78,79],\n",
        "          [41,42,43,44,45,46,47,48,49,50,51,52,53,54,55,56,57,58,59,60,61,62,63,64,65,66,67,68,69,70,71,72,73,74,75,76,77,78,79,40],\n",
        "          [42,43,44,45,46,47,48,49,50,51,52,53,54,55,56,57,58,59,60,61,62,63,64,65,66,67,68,69,70,71,72,73,74,75,76,77,78,79,40,41],\n",
        "          [43,44,45,46,47,48,49,50,51,52,53,54,55,56,57,58,59,60,61,62,63,64,65,66,67,68,69,70,71,72,73,74,75,76,77,78,79,40,41,42],\n",
        "          [44,45,46,47,48,49,50,51,52,53,54,55,56,57,58,59,60,61,62,63,64,65,66,67,68,69,70,71,72,73,74,75,76,77,78,79,40,41,42,43],\n",
        "          [45,46,47,48,49,50,51,52,53,54,55,56,57,58,59,60,61,62,63,64,65,66,67,68,69,70,71,72,73,74,75,76,77,78,79,40,41,42,43,44],\n",
        "          [46,47,48,49,50,51,52,53,54,55,56,57,58,59,60,61,62,63,64,65,66,67,68,69,70,71,72,73,74,75,76,77,78,79,40,41,42,43,44,45],\n",
        "          [47,48,49,50,51,52,53,54,55,56,57,58,59,60,61,62,63,64,65,66,67,68,69,70,71,72,73,74,75,76,77,78,79,40,41,42,43,44,45,46],\n",
        "          [48,49,50,51,52,53,54,55,56,57,58,59,60,61,62,63,64,65,66,67,68,69,70,71,72,73,74,75,76,77,78,79,40,41,42,43,44,45,46,47],\n",
        "          [49,50,51,52,53,54,55,56,57,58,59,60,61,62,63,64,65,66,67,68,69,70,71,72,73,74,75,76,77,78,79,40,41,42,43,44,45,46,47,48],\n",
        "          [50,51,52,53,54,55,56,57,58,59,60,61,62,63,64,65,66,67,68,69,70,71,72,73,74,75,76,77,78,79,40,41,42,43,44,45,46,47,48,49],\n",
        "          [51,52,53,54,55,56,57,58,59,60,61,62,63,64,65,66,67,68,69,70,71,72,73,74,75,76,77,78,79,40,41,42,43,44,45,46,47,48,49,50],\n",
        "          [52,53,54,55,56,57,58,59,60,61,62,63,64,65,66,67,68,69,70,71,72,73,74,75,76,77,78,79,40,41,42,43,44,45,46,47,48,49,50,51],\n",
        "          [53,54,55,56,57,58,59,60,61,62,63,64,65,66,67,68,69,70,71,72,73,74,75,76,77,78,79,40,41,42,43,44,45,46,47,48,49,50,51,51],\n",
        "          [54,55,56,57,58,59,60,61,62,63,64,65,66,67,68,69,70,71,72,73,74,75,76,77,78,79,40,41,42,43,44,45,46,47,48,49,50,51,52,53],\n",
        "          [55,56,57,58,59,60,61,62,63,64,65,66,67,68,69,70,71,72,73,74,75,76,77,78,79,40,41,42,43,44,45,46,47,48,49,50,51,52,53,54],\n",
        "          [56,57,58,59,60,61,62,63,64,65,66,67,68,69,70,71,72,73,74,75,76,77,78,79,40,41,42,43,44,45,46,47,48,49,50,51,52,53,54,55],\n",
        "          [57,58,59,60,61,62,63,64,65,66,67,68,69,70,71,72,73,74,75,76,77,78,79,40,41,42,43,44,45,46,47,48,49,50,51,52,51,54,55,56],\n",
        "          [58,59,60,61,62,63,64,65,66,67,68,69,70,71,72,73,74,75,76,77,78,79,40,41,42,43,44,45,46,47,48,49,50,51,52,53,54,55,56,57],\n",
        "          [59,60,61,62,63,64,65,66,67,68,69,70,71,72,73,74,75,76,77,78,79,40,41,42,43,44,45,46,47,48,49,50,51,52,53,54,55,56,57,58],\n",
        "          [60,61,62,63,64,65,66,67,68,69,70,71,72,73,74,75,76,77,78,79,40,41,42,43,44,45,46,47,48,49,50,51,52,53,54,55,56,57,58,59],\n",
        "          [61,62,63,64,65,66,67,68,69,70,71,72,73,74,75,76,77,78,79,40,41,42,43,44,45,46,47,48,49,50,51,52,53,54,55,56,57,58,59,60],\n",
        "          [62,63,64,65,66,67,68,69,70,71,72,73,74,75,76,77,78,79,40,41,42,43,44,45,46,47,48,49,50,51,52,53,54,55,56,57,58,59,60,61],\n",
        "          [63,64,65,66,67,68,69,70,71,72,73,74,75,76,77,78,79,40,41,42,43,44,45,46,47,48,49,50,51,52,53,54,55,56,57,58,59,60,61,62],\n",
        "          [64,65,66,67,68,69,70,71,72,73,74,75,76,77,78,79,40,41,42,43,44,45,46,47,48,49,50,51,52,53,54,55,56,57,58,59,60,61,62,63],\n",
        "          [65,66,67,68,69,70,71,72,73,74,75,76,77,78,79,40,41,42,43,44,45,46,47,48,49,50,51,52,53,54,55,56,57,58,59,60,61,62,63,64],\n",
        "          [66,67,68,69,70,71,72,73,74,75,76,77,78,79,40,41,42,43,44,45,46,47,48,49,50,51,52,53,54,55,56,57,58,59,60,61,62,63,64,65],\n",
        "          [67,68,69,70,71,72,73,74,75,76,77,78,79,40,41,42,43,44,45,46,47,48,49,50,51,52,53,54,55,56,57,58,59,60,61,62,63,64,65,66],\n",
        "          [68,69,70,71,72,73,74,75,76,77,78,79,40,41,42,43,44,45,46,47,48,49,50,51,52,53,54,55,56,57,58,59,60,61,62,63,64,65,66,67],\n",
        "          [69,70,71,72,73,74,75,76,77,78,79,40,41,42,43,44,45,46,47,48,49,50,51,52,53,54,55,56,57,58,59,60,61,62,63,64,65,66,67,68],\n",
        "          [70,71,72,73,74,75,76,77,78,79,40,41,42,43,44,45,46,47,48,49,50,51,52,53,54,55,56,57,58,59,60,61,62,63,64,65,66,67,68,69],\n",
        "          [71,72,73,74,75,76,77,78,79,40,41,42,43,44,45,46,47,48,49,50,51,52,53,54,55,56,57,58,59,60,61,62,63,64,65,66,67,68,69,70],\n",
        "          [72,73,74,75,76,77,78,79,40,41,42,43,44,45,46,47,48,49,50,51,52,53,54,55,56,57,58,59,60,61,62,63,64,65,66,67,68,69,70,71],\n",
        "          [73,74,75,76,77,78,79,40,41,42,43,44,45,46,47,48,49,50,51,52,53,54,55,56,57,58,59,60,61,62,63,64,65,66,67,68,69,70,71,72],\n",
        "          [74,75,76,77,78,79,40,41,42,43,44,45,46,47,48,49,50,51,52,53,54,55,56,57,58,59,60,61,62,63,64,65,66,67,68,69,70,71,72,73],\n",
        "          [75,76,77,78,79,40,41,42,43,44,45,46,47,48,49,50,51,52,53,54,55,56,57,58,59,60,61,62,63,64,65,66,67,68,69,70,71,72,73,74],\n",
        "          [76,77,78,79,40,41,42,43,44,45,46,47,48,49,50,51,52,53,54,55,56,57,58,59,60,61,62,63,64,65,66,67,68,69,70,71,72,73,74,75],\n",
        "          [77,78,79,40,41,42,43,44,45,46,47,48,49,50,51,52,53,54,55,56,57,58,59,60,61,62,63,64,65,66,67,68,69,70,71,72,73,74,75,76],\n",
        "          [78,79,40,41,42,43,44,45,46,47,48,49,50,51,52,53,54,55,56,57,58,59,60,61,62,63,64,65,66,67,68,69,70,71,72,73,74,75,76,77],\n",
        "          [79,40,41,42,43,44,45,46,47,48,49,50,51,52,53,54,55,56,57,58,59,60,61,62,63,64,65,66,67,68,69,70,71,72,73,74,75,76,77,78]]\n",
        "\n",
        "    \n",
        "\n",
        "stableMarriage1(prefer2)"
      ],
      "execution_count": 21,
      "outputs": [
        {
          "output_type": "stream",
          "text": [
            "Woman   Man\n",
            "40 \t 0\n",
            "41 \t 1\n",
            "42 \t 2\n",
            "43 \t 3\n",
            "44 \t 4\n",
            "45 \t 5\n",
            "46 \t 6\n",
            "47 \t 7\n",
            "48 \t 8\n",
            "49 \t 9\n",
            "50 \t 10\n",
            "51 \t 11\n",
            "52 \t 12\n",
            "53 \t 13\n",
            "54 \t 14\n",
            "55 \t 15\n",
            "56 \t 16\n",
            "57 \t 17\n",
            "58 \t 18\n",
            "59 \t 19\n",
            "60 \t 20\n",
            "61 \t 21\n",
            "62 \t 22\n",
            "63 \t 23\n",
            "64 \t 24\n",
            "65 \t 25\n",
            "66 \t 26\n",
            "67 \t 27\n",
            "68 \t 28\n",
            "69 \t 29\n",
            "70 \t 30\n",
            "71 \t 31\n",
            "72 \t 32\n",
            "73 \t 33\n",
            "74 \t 34\n",
            "75 \t 35\n",
            "76 \t 36\n",
            "77 \t 37\n",
            "78 \t 38\n",
            "79 \t 39\n"
          ],
          "name": "stdout"
        }
      ]
    },
    {
      "cell_type": "markdown",
      "metadata": {
        "id": "xe-_AzRrxjpZ"
      },
      "source": [
        "## **2.**"
      ]
    },
    {
      "cell_type": "markdown",
      "metadata": {
        "id": "SNIksfmjuDWi"
      },
      "source": [
        "## **Generating random values for arrays..**"
      ]
    },
    {
      "cell_type": "code",
      "metadata": {
        "id": "hY0CP761wMKZ"
      },
      "source": [
        "N = 4\n",
        "\n",
        "def wPrefersM1OverM2(prefer, w, m, m1):     \n",
        "    for i in range(N): \n",
        "        if (prefer[w][i] == m1): \n",
        "            return True\n",
        "        if (prefer[w][i] == m): \n",
        "            return False\n",
        " \n",
        "def stableMarriage2(prefer): \n",
        "    wPartner = [-1 for i in range(N)]\n",
        "    mFree = [False for i in range(N)] \n",
        "    freeCount = N \n",
        "    countS = 0;\n",
        "\n",
        "    while (freeCount > 0): \n",
        "        m = 0\n",
        "        while (m < N): \n",
        "            if (mFree[m] == False): \n",
        "                break\n",
        "            m += 1\n",
        "        i = 0\n",
        "        while i < N and mFree[m] == False: \n",
        "            w = prefer[m][i] \n",
        "            countS = countS + 1\n",
        "            if (wPartner[w - N] == -1): \n",
        "                wPartner[w - N] = m \n",
        "                mFree[m] = True\n",
        "                freeCount -= 1\n",
        "  \n",
        "            else:  \n",
        "\n",
        "                m1 = wPartner[w - N] \n",
        "                if (wPrefersM1OverM2(prefer, w, m, m1) == False): \n",
        "                    wPartner[w - N] = m \n",
        "                    mFree[m] = True\n",
        "                    mFree[m1] = False\n",
        "            i += 1\n",
        "\n",
        "    #print(\"Woman \", \" Man\") \n",
        "    #for i in range(N): \n",
        "    #    print(i + N, \"\\t\", wPartner[i]) \n",
        "    #print(countS)\n",
        "    return countS"
      ],
      "execution_count": 25,
      "outputs": []
    },
    {
      "cell_type": "code",
      "metadata": {
        "id": "aOsMCFiS_x5j"
      },
      "source": [
        "import random\n",
        "def randomMatriz():\n",
        "  d = 4\n",
        "\n",
        "  random03=[[0 for x in range(d)] for y in range(d)]\n",
        "  z = 0\n",
        "  max = 0\n",
        "  min = 500\n",
        "  #sum = 0\n",
        "  while z < 3:\n",
        "    print(\"entro en el while la vez: \", z)\n",
        "    for i in range (0,d):\n",
        "      print(\"columna de matriz\")\n",
        "      for j in range (0,d):\n",
        "          print(\"fila de matriz\")\n",
        "          random03[i][j]=int(random.randint(0,3))\n",
        "    print(\"intentando entrar a Stable\")\n",
        "    w = stableMarriage5(random03)\n",
        "    #print(x)\n",
        "    if (w < min):\n",
        "      min = w\n",
        "      print(\"El mín es: \", min)\n",
        "    if (w > max):\n",
        "      max = w\n",
        "      print(\"El maximo: \", max)\n",
        "    print(\"Sale de los condicionales para sumar\")\n",
        "    #sum = sum/4;\n",
        "    z = z+1\n",
        "\n",
        "    \n",
        "  print(max)\n",
        "  print(min)\n",
        "  #print(sum)\n",
        "  return random03\n",
        "#print(random03)\n",
        "#print(random47)"
      ],
      "execution_count": 40,
      "outputs": []
    },
    {
      "cell_type": "code",
      "metadata": {
        "colab": {
          "base_uri": "https://localhost:8080/",
          "height": 1000
        },
        "id": "USOiFVbbLCSJ",
        "outputId": "48c90e5b-cfcd-49dd-8361-eb8da84234d0"
      },
      "source": [
        "randomMatriz()"
      ],
      "execution_count": 41,
      "outputs": [
        {
          "output_type": "stream",
          "text": [
            "entro en el while la vez:  0\n",
            "columna de matriz\n",
            "fila de matriz\n",
            "fila de matriz\n",
            "fila de matriz\n",
            "fila de matriz\n",
            "columna de matriz\n",
            "fila de matriz\n",
            "fila de matriz\n",
            "fila de matriz\n",
            "fila de matriz\n",
            "columna de matriz\n",
            "fila de matriz\n",
            "fila de matriz\n",
            "fila de matriz\n",
            "fila de matriz\n",
            "columna de matriz\n",
            "fila de matriz\n",
            "fila de matriz\n",
            "fila de matriz\n",
            "fila de matriz\n",
            "intentando entrar a Stable\n",
            "Woman   Man\n",
            "4 \t 0\n",
            "5 \t 1\n",
            "6 \t 2\n",
            "7 \t 3\n",
            "El mín es:  6\n",
            "El maximo:  6\n",
            "Sale de los condicionales para sumar\n",
            "entro en el while la vez:  1\n",
            "columna de matriz\n",
            "fila de matriz\n",
            "fila de matriz\n",
            "fila de matriz\n",
            "fila de matriz\n",
            "columna de matriz\n",
            "fila de matriz\n",
            "fila de matriz\n",
            "fila de matriz\n",
            "fila de matriz\n",
            "columna de matriz\n",
            "fila de matriz\n",
            "fila de matriz\n",
            "fila de matriz\n",
            "fila de matriz\n",
            "columna de matriz\n",
            "fila de matriz\n",
            "fila de matriz\n",
            "fila de matriz\n",
            "fila de matriz\n",
            "intentando entrar a Stable\n"
          ],
          "name": "stdout"
        },
        {
          "output_type": "error",
          "ename": "KeyboardInterrupt",
          "evalue": "ignored",
          "traceback": [
            "\u001b[0;31m---------------------------------------------------------------------------\u001b[0m",
            "\u001b[0;31mKeyboardInterrupt\u001b[0m                         Traceback (most recent call last)",
            "\u001b[0;32m<ipython-input-41-dcbe46effa6d>\u001b[0m in \u001b[0;36m<module>\u001b[0;34m()\u001b[0m\n\u001b[0;32m----> 1\u001b[0;31m \u001b[0mrandomMatriz\u001b[0m\u001b[0;34m(\u001b[0m\u001b[0;34m)\u001b[0m\u001b[0;34m\u001b[0m\u001b[0;34m\u001b[0m\u001b[0m\n\u001b[0m",
            "\u001b[0;32m<ipython-input-40-bad8c42e22d2>\u001b[0m in \u001b[0;36mrandomMatriz\u001b[0;34m()\u001b[0m\n\u001b[1;32m     16\u001b[0m           \u001b[0mrandom03\u001b[0m\u001b[0;34m[\u001b[0m\u001b[0mi\u001b[0m\u001b[0;34m]\u001b[0m\u001b[0;34m[\u001b[0m\u001b[0mj\u001b[0m\u001b[0;34m]\u001b[0m\u001b[0;34m=\u001b[0m\u001b[0mint\u001b[0m\u001b[0;34m(\u001b[0m\u001b[0mrandom\u001b[0m\u001b[0;34m.\u001b[0m\u001b[0mrandint\u001b[0m\u001b[0;34m(\u001b[0m\u001b[0;36m0\u001b[0m\u001b[0;34m,\u001b[0m\u001b[0;36m3\u001b[0m\u001b[0;34m)\u001b[0m\u001b[0;34m)\u001b[0m\u001b[0;34m\u001b[0m\u001b[0;34m\u001b[0m\u001b[0m\n\u001b[1;32m     17\u001b[0m     \u001b[0mprint\u001b[0m\u001b[0;34m(\u001b[0m\u001b[0;34m\"intentando entrar a Stable\"\u001b[0m\u001b[0;34m)\u001b[0m\u001b[0;34m\u001b[0m\u001b[0;34m\u001b[0m\u001b[0m\n\u001b[0;32m---> 18\u001b[0;31m     \u001b[0mw\u001b[0m \u001b[0;34m=\u001b[0m \u001b[0mstableMarriage5\u001b[0m\u001b[0;34m(\u001b[0m\u001b[0mrandom03\u001b[0m\u001b[0;34m)\u001b[0m\u001b[0;34m\u001b[0m\u001b[0;34m\u001b[0m\u001b[0m\n\u001b[0m\u001b[1;32m     19\u001b[0m     \u001b[0;31m#print(x)\u001b[0m\u001b[0;34m\u001b[0m\u001b[0;34m\u001b[0m\u001b[0;34m\u001b[0m\u001b[0m\n\u001b[1;32m     20\u001b[0m     \u001b[0;32mif\u001b[0m \u001b[0;34m(\u001b[0m\u001b[0mw\u001b[0m \u001b[0;34m<\u001b[0m \u001b[0mmin\u001b[0m\u001b[0;34m)\u001b[0m\u001b[0;34m:\u001b[0m\u001b[0;34m\u001b[0m\u001b[0;34m\u001b[0m\u001b[0m\n",
            "\u001b[0;32m<ipython-input-39-1554aa18d89e>\u001b[0m in \u001b[0;36mstableMarriage5\u001b[0;34m(prefer)\u001b[0m\n\u001b[1;32m     57\u001b[0m         \u001b[0;31m# m's preferences. Here m is the picked free man\u001b[0m\u001b[0;34m\u001b[0m\u001b[0;34m\u001b[0m\u001b[0;34m\u001b[0m\u001b[0m\n\u001b[1;32m     58\u001b[0m         \u001b[0mi\u001b[0m \u001b[0;34m=\u001b[0m \u001b[0;36m0\u001b[0m\u001b[0;34m\u001b[0m\u001b[0;34m\u001b[0m\u001b[0m\n\u001b[0;32m---> 59\u001b[0;31m         \u001b[0;32mwhile\u001b[0m \u001b[0mi\u001b[0m \u001b[0;34m<\u001b[0m \u001b[0mN\u001b[0m \u001b[0;32mand\u001b[0m \u001b[0mmFree\u001b[0m\u001b[0;34m[\u001b[0m\u001b[0mm\u001b[0m\u001b[0;34m]\u001b[0m \u001b[0;34m==\u001b[0m \u001b[0;32mFalse\u001b[0m\u001b[0;34m:\u001b[0m\u001b[0;34m\u001b[0m\u001b[0;34m\u001b[0m\u001b[0m\n\u001b[0m\u001b[1;32m     60\u001b[0m             \u001b[0mw\u001b[0m \u001b[0;34m=\u001b[0m \u001b[0mprefer\u001b[0m\u001b[0;34m[\u001b[0m\u001b[0mm\u001b[0m\u001b[0;34m]\u001b[0m\u001b[0;34m[\u001b[0m\u001b[0mi\u001b[0m\u001b[0;34m]\u001b[0m\u001b[0;34m\u001b[0m\u001b[0;34m\u001b[0m\u001b[0m\n\u001b[1;32m     61\u001b[0m \u001b[0;34m\u001b[0m\u001b[0m\n",
            "\u001b[0;31mKeyboardInterrupt\u001b[0m: "
          ]
        }
      ]
    }
  ]
}